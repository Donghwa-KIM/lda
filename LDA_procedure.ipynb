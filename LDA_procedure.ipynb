{
 "cells": [
  {
   "cell_type": "markdown",
   "metadata": {
    "collapsed": true
   },
   "source": [
    "# Gibbs Sampling"
   ]
  },
  {
   "cell_type": "markdown",
   "metadata": {
    "collapsed": true
   },
   "source": [
    "This is useful for sampling from complex distribution $-$ multi-dimensional distribution  by component-wise sampling indenpendently. For example, we want to model three parameters, $\\theta_{1}$, $\\theta_{2}$ and $\\theta_{3}$ sequentially as follows."
   ]
  },
  {
   "cell_type": "markdown",
   "metadata": {
    "collapsed": true
   },
   "source": [
    "1. Initialize $\\theta_{1}^{0}$, $\\theta_{2}^{0}$ and $\\theta_{3}^{0}$ as some value\n",
    "2. for each iteration $i$:\n",
    " - create a new value $\\theta_{1}^{i}$ conditioned on values $\\theta_{2}^{i-1}$ and $\\theta_{3}^{i-1}$\n",
    " - create a new value $\\theta_{2}^{i}$ conditioned on values $\\theta_{1}^{i}$ and $\\theta_{3}^{i-1}$\n",
    " - create a new value $\\theta_{3}^{i}$ conditioned on values $\\theta_{1}^{i}$ and $\\theta_{2}^{i}$"
   ]
  },
  {
   "cell_type": "markdown",
   "metadata": {},
   "source": [
    "![example](https://donghwa-kim.github.io/picture/gibbs_seque.png)"
   ]
  },
  {
   "cell_type": "markdown",
   "metadata": {},
   "source": [
    "# LDA with Gibbs Sampling"
   ]
  },
  {
   "cell_type": "markdown",
   "metadata": {
    "collapsed": true
   },
   "source": [
    "There is an approach to estimate the posterior distrubution over assigning words to topics, namely, $\\theta$ and $\\phi$ can be derived from $z$. For each word $i$, $z_{i}$ is an intenger value $[1,...,T]$ representing the topic a word is assiged to."
   ]
  },
  {
   "cell_type": "markdown",
   "metadata": {
    "collapsed": true
   },
   "source": [
    "Let's assume a few notations:\n",
    "- $d_{i}$ : $i^{th}$ document.\n",
    "- $w_{d_{i}}$ : a word token in the document\n",
    "and the topic assignment $z_{i}$ is estimated from $w_{d_{i}}$, conditioned on all other topic assignments to other word tokens."
   ]
  },
  {
   "cell_type": "markdown",
   "metadata": {
    "collapsed": true
   },
   "source": [
    "![eq1](https://raw.githubusercontent.com/Donghwa-KIM/lda/master/figure/equ1.PNG)"
   ]
  },
  {
   "cell_type": "markdown",
   "metadata": {},
   "source": [
    "where $\\cdot$ means all other words $w_{i}$ and documents $d_{i}$ and $\\propto$ is proportional notation, for example, $y\\propto x \\equiv y=kx$"
   ]
  },
  {
   "cell_type": "markdown",
   "metadata": {},
   "source": [
    "$C^{wt}$ and $C^{DT}$ are matrics of counts with dimensions $W$ X $T$ and $D$ X $T$ respectively:\n",
    "- $C^{WT}_{wj}$ is the count of words $w$ assigned to topic j, not including current instance $i$.\n",
    "- $C^{DT}_{dj}$ is the count of topic j assigned to some word token in documnet D not including current instance i."
   ]
  },
  {
   "cell_type": "markdown",
   "metadata": {},
   "source": [
    "If many tokens of word $i$ have been assigned to a topic $j$, the probability that the following word token $i$ is assigned to the topic $j$ is increased according to frequency of the word. Similarly, if topic $j$ has been used multiple times within a document, it will increase the probability that any word within that document is assigned to topic $j$."
   ]
  },
  {
   "cell_type": "markdown",
   "metadata": {},
   "source": [
    "$\\theta$ $-$ topic distribution and $\\phi$ $-$ term distribution can be estimated by the following formula [M Steyvers & T Griffiths (2004)](https://www.dropbox.com/s/5v9lh0lcmx0nqfz/sciencetopics.pdf?dl=0) :"
   ]
  },
  {
   "cell_type": "markdown",
   "metadata": {},
   "source": [
    "![eq2](https://raw.githubusercontent.com/Donghwa-KIM/lda/master/figure/eq2.PNG)"
   ]
  },
  {
   "cell_type": "markdown",
   "metadata": {},
   "source": [
    "The gibbs sampling procedure now can be written as:\n",
    "- Assign each word token $w_{i}$ a random topic[1,...,T]\n",
    "- For each word token $w_{i}$:\n",
    "    - Decrement count matrices $C^{WT}$ and $C^{DT}$ by one for current topic assignment.\n",
    "    - Sample a new topic from the **_posterior equation_** ($\\theta$, $\\phi$) above.\n",
    "    - Update count matrices $C^{WT}$ and $C^{DT}$ by one with the new sampled topic assignment.\n",
    "- Repeat above steps until the iteration that you want as a hyperparameter.\n",
    "- derive $\\phi^{'}$ and $\\theta^{'}$ from gibbs samples $z$, using the above equations."
   ]
  },
  {
   "cell_type": "markdown",
   "metadata": {},
   "source": [
    "there is an initial duration for **_'burn-in'_** where the poor estimates are often discared. After this duration, the samples start to approach the target distribution. Furthermore, to get a representative sample, samples are saved at regularly spaced intervals to prevent correlation between them."
   ]
  },
  {
   "cell_type": "markdown",
   "metadata": {},
   "source": [
    "# The process of LDA with an example using python"
   ]
  },
  {
   "cell_type": "markdown",
   "metadata": {},
   "source": [
    "1) **_Data generation for an example_**\n",
    "\n",
    "Suppose that there are two topics in $V$ = ['money', 'loan', 'bank', 'river', 'stream'] and to initialize, Topic 1 allocates equal probability to  'money', 'loan' and 'bank', i.e, $\\phi^{1}_{money}=1/3$, $\\phi^{1}_{loan}=1/3$, $\\phi^{1}_{bank}=1/3$, whereas Topic 2 allocates equal probability to 'bank', 'river' and 'stream', i.e, $\\phi^{2}_{bank}=1/3$, $\\phi^{2}_{river}=1/3$, $\\phi^{2}_{stream}=1/3$."
   ]
  },
  {
   "cell_type": "code",
   "execution_count": 48,
   "metadata": {
    "collapsed": false
   },
   "outputs": [
    {
     "data": {
      "text/plain": [
       "['money', 'loan', 'bank', 'river', 'stream']"
      ]
     },
     "execution_count": 48,
     "metadata": {},
     "output_type": "execute_result"
    }
   ],
   "source": [
    "vocab = [\"money\",\n",
    "        \"loan\",\n",
    "        \"bank\",\n",
    "        \"river\",\n",
    "        \"stream\"]\n",
    "vocab"
   ]
  },
  {
   "cell_type": "code",
   "execution_count": 49,
   "metadata": {
    "collapsed": false
   },
   "outputs": [
    {
     "data": {
      "text/plain": [
       "array([[ 0.33333333,  0.        ],\n",
       "       [ 0.33333333,  0.        ],\n",
       "       [ 0.33333333,  0.33333333],\n",
       "       [ 0.        ,  0.33333333],\n",
       "       [ 0.        ,  0.33333333]])"
      ]
     },
     "execution_count": 49,
     "metadata": {},
     "output_type": "execute_result"
    }
   ],
   "source": [
    "import numpy as np\n",
    "z_1 = np.array([1/3, 1/3, 1/3, .0, .0])\n",
    "z_2 = np.array([.0, .0,1/3, 1/3, 1/3])\n",
    "z = np.array([z_1, z_2])\n",
    "z = np.transpose(z)\n",
    "z"
   ]
  },
  {
   "cell_type": "code",
   "execution_count": 50,
   "metadata": {
    "collapsed": false
   },
   "outputs": [
    {
     "data": {
      "text/plain": [
       "array([10,  8, 14, 17,  5, 15, 16,  8,  6, 14,  7, 12,  8, 14, 15, 14])"
      ]
     },
     "execution_count": 50,
     "metadata": {},
     "output_type": "execute_result"
    }
   ],
   "source": [
    "# the number of documents\n",
    "D = 16\n",
    "\n",
    "# mean word length of documents\n",
    "mean_length = 10\n",
    "\n",
    "# sample a length for each document using Poisson\n",
    "len_doc = np.random.poisson(mean_length, size=D)\n",
    "len_doc # the number of words in a document"
   ]
  },
  {
   "cell_type": "code",
   "execution_count": 51,
   "metadata": {
    "collapsed": false
   },
   "outputs": [],
   "source": [
    "# the fixed number of topics\n",
    "T = 2 # the number of topics\n",
    "docs = []\n",
    "orig_topics = []\n",
    "for i in range(D): # D = 16\n",
    "    z = np.random.randint(0, 2) # an generated random intenger between 0 and 1 corresponding to z_1 and z_2 respectively.\n",
    "    if z == 0:\n",
    "        #This is going to select the vocabs by the z probability depending on the size: the number of vocabs going to be selected,\n",
    "        # and then that is changed as list type \n",
    "        words = np.random.choice(vocab, size=(len_doc[i]),p=z_1).tolist()# when 1st z (z==0), the probaility of z_1 is used for seleting words  \n",
    "    else:\n",
    "        words = np.random.choice(vocab, size=(len_doc[i]),p=z_2).tolist()# when 2nd z (z==1), the probaility of z_2 is used for seleting words  \n",
    "    orig_topics.append(z) #[] <- put the topics into the empty list sequentially\n",
    "    docs.append(words) #[] <- put the words into the empty list sequentially"
   ]
  },
  {
   "cell_type": "code",
   "execution_count": 52,
   "metadata": {
    "collapsed": false
   },
   "outputs": [
    {
     "data": {
      "text/plain": [
       "[1, 0, 0, 0, 0, 1, 1, 0, 0, 1, 1, 0, 1, 1, 0, 0]"
      ]
     },
     "execution_count": 52,
     "metadata": {},
     "output_type": "execute_result"
    }
   ],
   "source": [
    "orig_topics"
   ]
  },
  {
   "cell_type": "code",
   "execution_count": 53,
   "metadata": {
    "collapsed": false
   },
   "outputs": [
    {
     "name": "stdout",
     "output_type": "stream",
     "text": [
      "Document 1 | stream bank stream river river stream bank bank river stream\n",
      "Document 2 | loan money money loan loan loan loan loan\n",
      "Document 3 | bank loan money loan bank money money loan loan money money bank money money\n",
      "Document 4 | loan bank money money loan bank bank loan bank loan loan loan bank bank money money bank\n",
      "Document 5 | loan loan loan loan bank\n",
      "Document 6 | stream river stream stream river stream stream stream stream stream river stream river stream bank\n",
      "Document 7 | stream river stream river bank stream stream river bank bank bank river stream river bank river\n",
      "Document 8 | money money money bank bank money money loan\n",
      "Document 9 | loan bank loan money bank loan\n",
      "Document 10 | river stream bank river river stream stream stream bank stream river stream river bank\n",
      "Document 11 | bank river bank river river bank bank\n",
      "Document 12 | bank loan bank money money money loan loan money money bank money\n",
      "Document 13 | stream stream river stream bank stream stream river\n",
      "Document 14 | bank bank stream bank river stream river bank bank bank stream river stream bank\n",
      "Document 15 | loan bank loan loan bank loan bank bank bank bank bank money loan money bank\n",
      "Document 16 | money money bank loan money money loan loan money loan money money money loan\n"
     ]
    }
   ],
   "source": [
    "for i in range(len(docs)):\n",
    "    print('Document',i+1,'|',\" \".join(docs[i]))"
   ]
  },
  {
   "cell_type": "markdown",
   "metadata": {},
   "source": [
    "2) **_Initialize the notations_**\n",
    "\n",
    "we need to initialize the notations as below:\n",
    "- $w_{i}$ = $i^{th}$ word token in a document\n",
    "- $d_{i}$ = $i^{th}$ document\n",
    "- $z_{i}$ = $i^{th}$ topic assignment for **_a word token randomly_**"
   ]
  },
  {
   "cell_type": "code",
   "execution_count": 55,
   "metadata": {
    "collapsed": false
   },
   "outputs": [],
   "source": [
    "w_i = []\n",
    "i = []\n",
    "d_i = []\n",
    "z_i = []\n",
    "\n",
    "counter = 0\n",
    "\n",
    "\n",
    "# go through each document\n",
    "# Enumerate returns index, list covered by tuple format\n",
    "for doc_idx, doc in enumerate(docs):\n",
    "    # go through each word in eac document\n",
    "    for word_idx, word in enumerate(doc):\n",
    "        # word index in vocab\n",
    "        w_i.append(np.where(np.array(vocab)==word)[0][0])\n",
    "        # counter\n",
    "        i.append(counter)\n",
    "        # document index in total document\n",
    "        d_i.append(doc_idx)\n",
    "        # initialize some topic assignment\n",
    "        z_i.append(np.random.randint(0, T))\n",
    "        counter += 1\n",
    "        \n",
    "# convert everything consisting of indices to numpy\n",
    "w_i = np.array(w_i)\n",
    "d_i = np.array(d_i)\n",
    "z_i = np.array(z_i)"
   ]
  },
  {
   "cell_type": "markdown",
   "metadata": {},
   "source": [
    "For example below, $(w_{1}, d_{1}, z_{1})$ means that $4^{th}$ word in vocab in $1^{th}$ document is assigned to $2^{th}$ topic initially."
   ]
  },
  {
   "cell_type": "code",
   "execution_count": 56,
   "metadata": {
    "collapsed": false,
    "scrolled": true
   },
   "outputs": [
    {
     "name": "stdout",
     "output_type": "stream",
     "text": [
      "[4 2 4 3 3 4 2 2 3 4 1 0 0 1 1 1 1 1 2 1 0 1 2 0 0 1 1 0 0 2 0 0 1 2 0 0 1\n",
      " 2 2 1 2 1 1 1 2 2 0 0 2 1 1 1 1 2 4 3 4 4 3 4 4 4 4 4 3 4 3 4 2 4 3 4 3 2\n",
      " 4 4 3 2 2 2 3 4 3 2 3 0 0 0 2 2 0 0 1 1 2 1 0 2 1 3 4 2 3 3 4 4 4 2 4 3 4\n",
      " 3 2 2 3 2 3 3 2 2 2 1 2 0 0 0 1 1 0 0 2 0 4 4 3 4 2 4 4 3 2 2 4 2 3 4 3 2\n",
      " 2 2 4 3 4 2 1 2 1 1 2 1 2 2 2 2 2 0 1 0 2 0 0 2 1 0 0 1 1 0 1 0 0 0 1] , len: 183\n",
      "[ 0  0  0  0  0  0  0  0  0  0  1  1  1  1  1  1  1  1  2  2  2  2  2  2  2\n",
      "  2  2  2  2  2  2  2  3  3  3  3  3  3  3  3  3  3  3  3  3  3  3  3  3  4\n",
      "  4  4  4  4  5  5  5  5  5  5  5  5  5  5  5  5  5  5  5  6  6  6  6  6  6\n",
      "  6  6  6  6  6  6  6  6  6  6  7  7  7  7  7  7  7  7  8  8  8  8  8  8  9\n",
      "  9  9  9  9  9  9  9  9  9  9  9  9  9 10 10 10 10 10 10 10 11 11 11 11 11\n",
      " 11 11 11 11 11 11 11 12 12 12 12 12 12 12 12 13 13 13 13 13 13 13 13 13 13\n",
      " 13 13 13 13 14 14 14 14 14 14 14 14 14 14 14 14 14 14 14 15 15 15 15 15 15\n",
      " 15 15 15 15 15 15 15 15] , len: 183\n",
      "[1 0 1 0 1 1 0 0 0 1 1 1 1 0 1 1 0 0 1 0 0 0 0 1 1 0 0 1 1 1 1 0 1 0 1 1 1\n",
      " 0 0 0 0 1 0 1 0 0 0 1 1 0 0 1 0 0 0 0 0 1 1 0 1 1 1 1 0 1 0 1 0 1 1 0 1 1\n",
      " 1 1 0 0 1 0 0 1 1 1 0 1 1 0 1 0 0 0 1 1 1 0 1 0 1 0 1 1 0 0 0 0 1 1 1 1 0\n",
      " 0 0 0 0 1 0 1 1 1 0 0 0 0 1 1 1 0 0 1 0 1 1 0 1 1 0 0 1 1 0 1 0 1 1 0 1 0\n",
      " 1 0 0 1 0 0 0 1 0 0 0 0 0 0 0 1 1 1 0 1 0 0 1 0 0 1 0 0 0 1 0 1 0 1 0] , len: 183\n"
     ]
    }
   ],
   "source": [
    "print(w_i,', len:',len(w_i)) # vocab index (0~4)\n",
    "print(d_i,', len:',len(d_i)) # document index (0~15)\n",
    "print(z_i,', len:',len(z_i)) # topic index (0~1)\n",
    "# Every notation above is corresponded each other."
   ]
  },
  {
   "cell_type": "code",
   "execution_count": 57,
   "metadata": {
    "collapsed": false
   },
   "outputs": [
    {
     "name": "stdout",
     "output_type": "stream",
     "text": [
      "[[ 0.  0.]\n",
      " [ 0.  0.]\n",
      " [ 0.  0.]\n",
      " [ 0.  0.]\n",
      " [ 0.  0.]]\n"
     ]
    }
   ],
   "source": [
    "WT = np.zeros((len(vocab),T)) # create an empty WT matrix\n",
    "DT = np.zeros((D,T)) # create an empty DT matrix\n",
    "print(WT) # Words X Topics"
   ]
  },
  {
   "cell_type": "code",
   "execution_count": 58,
   "metadata": {
    "collapsed": false
   },
   "outputs": [
    {
     "name": "stdout",
     "output_type": "stream",
     "text": [
      "[[ 0.  0.]\n",
      " [ 0.  0.]\n",
      " [ 0.  0.]\n",
      " [ 0.  0.]\n",
      " [ 0.  0.]\n",
      " [ 0.  0.]\n",
      " [ 0.  0.]\n",
      " [ 0.  0.]\n",
      " [ 0.  0.]\n",
      " [ 0.  0.]\n",
      " [ 0.  0.]\n",
      " [ 0.  0.]\n",
      " [ 0.  0.]\n",
      " [ 0.  0.]\n",
      " [ 0.  0.]\n",
      " [ 0.  0.]]\n"
     ]
    }
   ],
   "source": [
    "print(DT) # Documents X Topics"
   ]
  },
  {
   "cell_type": "code",
   "execution_count": 59,
   "metadata": {
    "collapsed": true
   },
   "outputs": [],
   "source": [
    "for idx, word_ in enumerate(vocab): # go through each word \n",
    "    # for each topic, count the number of times \n",
    "    # it is assigned to a word\n",
    "    topics = z_i[np.where(w_i == idx)] # take the topic assignments where the ith vocab match with w_i\n",
    "    for t in range(T):\n",
    "        WT[idx,t] = sum(topics == t) # put a total of each topic(column) into each vocab idx (row)"
   ]
  },
  {
   "cell_type": "code",
   "execution_count": 60,
   "metadata": {
    "collapsed": true
   },
   "outputs": [],
   "source": [
    "# This is the same as above except that w_i is changed to d_i\n",
    "\n",
    "for idx, doc_ in enumerate(range(D)):\n",
    "    # for each topic, count the number of times \n",
    "    # it is assigned to a document\n",
    "    topics = z_i[np.where(d_i == idx)] # take the topic assignments where the ith document match with d_i\n",
    "    for t in range(T):\n",
    "        DT[idx,t] = sum(topics == t) # put a total of each topic(column) into each document idx (row)"
   ]
  },
  {
   "cell_type": "markdown",
   "metadata": {},
   "source": [
    "It is necessary to save the intial matrices to compare the final result."
   ]
  },
  {
   "cell_type": "code",
   "execution_count": 61,
   "metadata": {
    "collapsed": false
   },
   "outputs": [
    {
     "data": {
      "text/plain": [
       "array([[ 11.,  24.],\n",
       "       [ 25.,  12.],\n",
       "       [ 32.,  19.],\n",
       "       [ 14.,  12.],\n",
       "       [ 13.,  21.]])"
      ]
     },
     "execution_count": 61,
     "metadata": {},
     "output_type": "execute_result"
    }
   ],
   "source": [
    "# distribution for each word\n",
    "WT_orig = WT.copy()\n",
    "WT_orig"
   ]
  },
  {
   "cell_type": "code",
   "execution_count": 62,
   "metadata": {
    "collapsed": false,
    "scrolled": true
   },
   "outputs": [
    {
     "data": {
      "text/plain": [
       "array([[  5.,   5.],\n",
       "       [  3.,   5.],\n",
       "       [  7.,   7.],\n",
       "       [  9.,   8.],\n",
       "       [  4.,   1.],\n",
       "       [  7.,   8.],\n",
       "       [  6.,  10.],\n",
       "       [  4.,   4.],\n",
       "       [  2.,   4.],\n",
       "       [  8.,   6.],\n",
       "       [  3.,   4.],\n",
       "       [  7.,   5.],\n",
       "       [  3.,   5.],\n",
       "       [  8.,   6.],\n",
       "       [ 10.,   5.],\n",
       "       [  9.,   5.]])"
      ]
     },
     "execution_count": 62,
     "metadata": {},
     "output_type": "execute_result"
    }
   ],
   "source": [
    "# distribution for each document\n",
    "DT_orig = DT.copy()\n",
    "DT"
   ]
  },
  {
   "cell_type": "markdown",
   "metadata": {},
   "source": [
    "3) **_Learning Gibbs Sampling iteratively_**"
   ]
  },
  {
   "cell_type": "markdown",
   "metadata": {},
   "source": [
    "Basically, It's going to learn each of the word tokens $w_{i}$ and update the topic assingments $z_{i}$\n",
    "\n",
    "$\\phi_{1}$ and $\\phi_{2}$ will estimate and record topic assignments for each word"
   ]
  },
  {
   "cell_type": "code",
   "execution_count": 63,
   "metadata": {
    "collapsed": false
   },
   "outputs": [
    {
     "data": {
      "text/plain": [
       "[array([[ 0.,  0.,  0.,  0.,  0.,  0.,  0.,  0.,  0.,  0.,  0.,  0.,  0.,\n",
       "          0.,  0.,  0.,  0.,  0.,  0.,  0.,  0.,  0.,  0.,  0.,  0.,  0.,\n",
       "          0.,  0.,  0.,  0.,  0.,  0.,  0.,  0.,  0.,  0.,  0.,  0.,  0.,\n",
       "          0.,  0.,  0.,  0.,  0.,  0.,  0.,  0.,  0.,  0.,  0.,  0.,  0.,\n",
       "          0.,  0.,  0.,  0.,  0.,  0.,  0.,  0.,  0.,  0.,  0.,  0.,  0.,\n",
       "          0.,  0.,  0.,  0.,  0.,  0.,  0.,  0.,  0.,  0.,  0.,  0.,  0.,\n",
       "          0.,  0.,  0.,  0.,  0.,  0.,  0.,  0.,  0.,  0.,  0.,  0.,  0.,\n",
       "          0.,  0.,  0.,  0.,  0.,  0.,  0.,  0.,  0.],\n",
       "        [ 0.,  0.,  0.,  0.,  0.,  0.,  0.,  0.,  0.,  0.,  0.,  0.,  0.,\n",
       "          0.,  0.,  0.,  0.,  0.,  0.,  0.,  0.,  0.,  0.,  0.,  0.,  0.,\n",
       "          0.,  0.,  0.,  0.,  0.,  0.,  0.,  0.,  0.,  0.,  0.,  0.,  0.,\n",
       "          0.,  0.,  0.,  0.,  0.,  0.,  0.,  0.,  0.,  0.,  0.,  0.,  0.,\n",
       "          0.,  0.,  0.,  0.,  0.,  0.,  0.,  0.,  0.,  0.,  0.,  0.,  0.,\n",
       "          0.,  0.,  0.,  0.,  0.,  0.,  0.,  0.,  0.,  0.,  0.,  0.,  0.,\n",
       "          0.,  0.,  0.,  0.,  0.,  0.,  0.,  0.,  0.,  0.,  0.,  0.,  0.,\n",
       "          0.,  0.,  0.,  0.,  0.,  0.,  0.,  0.,  0.],\n",
       "        [ 0.,  0.,  0.,  0.,  0.,  0.,  0.,  0.,  0.,  0.,  0.,  0.,  0.,\n",
       "          0.,  0.,  0.,  0.,  0.,  0.,  0.,  0.,  0.,  0.,  0.,  0.,  0.,\n",
       "          0.,  0.,  0.,  0.,  0.,  0.,  0.,  0.,  0.,  0.,  0.,  0.,  0.,\n",
       "          0.,  0.,  0.,  0.,  0.,  0.,  0.,  0.,  0.,  0.,  0.,  0.,  0.,\n",
       "          0.,  0.,  0.,  0.,  0.,  0.,  0.,  0.,  0.,  0.,  0.,  0.,  0.,\n",
       "          0.,  0.,  0.,  0.,  0.,  0.,  0.,  0.,  0.,  0.,  0.,  0.,  0.,\n",
       "          0.,  0.,  0.,  0.,  0.,  0.,  0.,  0.,  0.,  0.,  0.,  0.,  0.,\n",
       "          0.,  0.,  0.,  0.,  0.,  0.,  0.,  0.,  0.],\n",
       "        [ 0.,  0.,  0.,  0.,  0.,  0.,  0.,  0.,  0.,  0.,  0.,  0.,  0.,\n",
       "          0.,  0.,  0.,  0.,  0.,  0.,  0.,  0.,  0.,  0.,  0.,  0.,  0.,\n",
       "          0.,  0.,  0.,  0.,  0.,  0.,  0.,  0.,  0.,  0.,  0.,  0.,  0.,\n",
       "          0.,  0.,  0.,  0.,  0.,  0.,  0.,  0.,  0.,  0.,  0.,  0.,  0.,\n",
       "          0.,  0.,  0.,  0.,  0.,  0.,  0.,  0.,  0.,  0.,  0.,  0.,  0.,\n",
       "          0.,  0.,  0.,  0.,  0.,  0.,  0.,  0.,  0.,  0.,  0.,  0.,  0.,\n",
       "          0.,  0.,  0.,  0.,  0.,  0.,  0.,  0.,  0.,  0.,  0.,  0.,  0.,\n",
       "          0.,  0.,  0.,  0.,  0.,  0.,  0.,  0.,  0.],\n",
       "        [ 0.,  0.,  0.,  0.,  0.,  0.,  0.,  0.,  0.,  0.,  0.,  0.,  0.,\n",
       "          0.,  0.,  0.,  0.,  0.,  0.,  0.,  0.,  0.,  0.,  0.,  0.,  0.,\n",
       "          0.,  0.,  0.,  0.,  0.,  0.,  0.,  0.,  0.,  0.,  0.,  0.,  0.,\n",
       "          0.,  0.,  0.,  0.,  0.,  0.,  0.,  0.,  0.,  0.,  0.,  0.,  0.,\n",
       "          0.,  0.,  0.,  0.,  0.,  0.,  0.,  0.,  0.,  0.,  0.,  0.,  0.,\n",
       "          0.,  0.,  0.,  0.,  0.,  0.,  0.,  0.,  0.,  0.,  0.,  0.,  0.,\n",
       "          0.,  0.,  0.,  0.,  0.,  0.,  0.,  0.,  0.,  0.,  0.,  0.,  0.,\n",
       "          0.,  0.,  0.,  0.,  0.,  0.,  0.,  0.,  0.]]),\n",
       " array([[ 0.,  0.,  0.,  0.,  0.,  0.,  0.,  0.,  0.,  0.,  0.,  0.,  0.,\n",
       "          0.,  0.,  0.,  0.,  0.,  0.,  0.,  0.,  0.,  0.,  0.,  0.,  0.,\n",
       "          0.,  0.,  0.,  0.,  0.,  0.,  0.,  0.,  0.,  0.,  0.,  0.,  0.,\n",
       "          0.,  0.,  0.,  0.,  0.,  0.,  0.,  0.,  0.,  0.,  0.,  0.,  0.,\n",
       "          0.,  0.,  0.,  0.,  0.,  0.,  0.,  0.,  0.,  0.,  0.,  0.,  0.,\n",
       "          0.,  0.,  0.,  0.,  0.,  0.,  0.,  0.,  0.,  0.,  0.,  0.,  0.,\n",
       "          0.,  0.,  0.,  0.,  0.,  0.,  0.,  0.,  0.,  0.,  0.,  0.,  0.,\n",
       "          0.,  0.,  0.,  0.,  0.,  0.,  0.,  0.,  0.],\n",
       "        [ 0.,  0.,  0.,  0.,  0.,  0.,  0.,  0.,  0.,  0.,  0.,  0.,  0.,\n",
       "          0.,  0.,  0.,  0.,  0.,  0.,  0.,  0.,  0.,  0.,  0.,  0.,  0.,\n",
       "          0.,  0.,  0.,  0.,  0.,  0.,  0.,  0.,  0.,  0.,  0.,  0.,  0.,\n",
       "          0.,  0.,  0.,  0.,  0.,  0.,  0.,  0.,  0.,  0.,  0.,  0.,  0.,\n",
       "          0.,  0.,  0.,  0.,  0.,  0.,  0.,  0.,  0.,  0.,  0.,  0.,  0.,\n",
       "          0.,  0.,  0.,  0.,  0.,  0.,  0.,  0.,  0.,  0.,  0.,  0.,  0.,\n",
       "          0.,  0.,  0.,  0.,  0.,  0.,  0.,  0.,  0.,  0.,  0.,  0.,  0.,\n",
       "          0.,  0.,  0.,  0.,  0.,  0.,  0.,  0.,  0.],\n",
       "        [ 0.,  0.,  0.,  0.,  0.,  0.,  0.,  0.,  0.,  0.,  0.,  0.,  0.,\n",
       "          0.,  0.,  0.,  0.,  0.,  0.,  0.,  0.,  0.,  0.,  0.,  0.,  0.,\n",
       "          0.,  0.,  0.,  0.,  0.,  0.,  0.,  0.,  0.,  0.,  0.,  0.,  0.,\n",
       "          0.,  0.,  0.,  0.,  0.,  0.,  0.,  0.,  0.,  0.,  0.,  0.,  0.,\n",
       "          0.,  0.,  0.,  0.,  0.,  0.,  0.,  0.,  0.,  0.,  0.,  0.,  0.,\n",
       "          0.,  0.,  0.,  0.,  0.,  0.,  0.,  0.,  0.,  0.,  0.,  0.,  0.,\n",
       "          0.,  0.,  0.,  0.,  0.,  0.,  0.,  0.,  0.,  0.,  0.,  0.,  0.,\n",
       "          0.,  0.,  0.,  0.,  0.,  0.,  0.,  0.,  0.],\n",
       "        [ 0.,  0.,  0.,  0.,  0.,  0.,  0.,  0.,  0.,  0.,  0.,  0.,  0.,\n",
       "          0.,  0.,  0.,  0.,  0.,  0.,  0.,  0.,  0.,  0.,  0.,  0.,  0.,\n",
       "          0.,  0.,  0.,  0.,  0.,  0.,  0.,  0.,  0.,  0.,  0.,  0.,  0.,\n",
       "          0.,  0.,  0.,  0.,  0.,  0.,  0.,  0.,  0.,  0.,  0.,  0.,  0.,\n",
       "          0.,  0.,  0.,  0.,  0.,  0.,  0.,  0.,  0.,  0.,  0.,  0.,  0.,\n",
       "          0.,  0.,  0.,  0.,  0.,  0.,  0.,  0.,  0.,  0.,  0.,  0.,  0.,\n",
       "          0.,  0.,  0.,  0.,  0.,  0.,  0.,  0.,  0.,  0.,  0.,  0.,  0.,\n",
       "          0.,  0.,  0.,  0.,  0.,  0.,  0.,  0.,  0.],\n",
       "        [ 0.,  0.,  0.,  0.,  0.,  0.,  0.,  0.,  0.,  0.,  0.,  0.,  0.,\n",
       "          0.,  0.,  0.,  0.,  0.,  0.,  0.,  0.,  0.,  0.,  0.,  0.,  0.,\n",
       "          0.,  0.,  0.,  0.,  0.,  0.,  0.,  0.,  0.,  0.,  0.,  0.,  0.,\n",
       "          0.,  0.,  0.,  0.,  0.,  0.,  0.,  0.,  0.,  0.,  0.,  0.,  0.,\n",
       "          0.,  0.,  0.,  0.,  0.,  0.,  0.,  0.,  0.,  0.,  0.,  0.,  0.,\n",
       "          0.,  0.,  0.,  0.,  0.,  0.,  0.,  0.,  0.,  0.,  0.,  0.,  0.,\n",
       "          0.,  0.,  0.,  0.,  0.,  0.,  0.,  0.,  0.,  0.,  0.,  0.,  0.,\n",
       "          0.,  0.,  0.,  0.,  0.,  0.,  0.,  0.,  0.]])]"
      ]
     },
     "execution_count": 63,
     "metadata": {},
     "output_type": "execute_result"
    }
   ],
   "source": [
    "# a hyper parameter to make better performance but we have to consider the running time\n",
    "iters = 100\n",
    "phi_T = []\n",
    "# when iteration 100, we should make the matrix as follows to record the estimates\n",
    "for t in range(T):\n",
    "    phi_T.append(np.zeros((len(vocab),iters)))\n",
    "\n",
    "phi_T"
   ]
  },
  {
   "cell_type": "markdown",
   "metadata": {},
   "source": [
    "The Dirichlet prior ($\\alpha$, $\\beta$) below are determinant hyper-parameters to decide the shape of topic distributions. for example"
   ]
  },
  {
   "cell_type": "markdown",
   "metadata": {},
   "source": [
    "### when $\\alpha$ = 1, learning iteratively"
   ]
  },
  {
   "cell_type": "markdown",
   "metadata": {},
   "source": [
    "![alpha](http://donghwa-kim.github.io/picture/a_1.png)"
   ]
  },
  {
   "cell_type": "markdown",
   "metadata": {},
   "source": [
    "### when $\\alpha$ = 0.1, learning iteratively"
   ]
  },
  {
   "cell_type": "markdown",
   "metadata": {},
   "source": [
    "![alpha](http://donghwa-kim.github.io/picture/a_01.png)"
   ]
  },
  {
   "cell_type": "markdown",
   "metadata": {},
   "source": [
    "Generally, it is proven from [M Steyvers & T Griffiths (2007)](https://www.dropbox.com/s/tdsyqunr9qmcdlx/SteyversGriffiths.pdf?dl=0);[M Steyvers & T Griffiths (2004)](https://www.dropbox.com/s/5v9lh0lcmx0nqfz/sciencetopics.pdf?dl=0) that the reasonable values for the hyperparameters are experimentally\n",
    "\n",
    "$\\alpha$ = 50 $/$ The number of topics\n",
    "\n",
    "$\\beta$ = 0.01"
   ]
  },
  {
   "cell_type": "markdown",
   "metadata": {},
   "source": [
    "![eq2](https://raw.githubusercontent.com/Donghwa-KIM/lda/master/figure/eq2.PNG)"
   ]
  },
  {
   "cell_type": "code",
   "execution_count": 64,
   "metadata": {
    "collapsed": false,
    "scrolled": true
   },
   "outputs": [
    {
     "name": "stdout",
     "output_type": "stream",
     "text": [
      "iteration:  10\n",
      "iteration:  20\n",
      "iteration:  30\n",
      "iteration:  40\n",
      "iteration:  50\n",
      "iteration:  60\n",
      "iteration:  70\n",
      "iteration:  80\n",
      "iteration:  90\n",
      "iteration:  100\n"
     ]
    }
   ],
   "source": [
    "# but we just apply the Dirichlet priors for an example\n",
    "beta = 1. \n",
    "alpha = 1.\n",
    "\n",
    "for step in range(iters):\n",
    "    # for each word token \n",
    "    for current in i: # i  for all the duplicate words \n",
    "        # get document index and word index\n",
    "        doc_idx = d_i[current] \n",
    "        w_idx = w_i[current]\n",
    "                \n",
    "        # decrease count matrices, it means to leave out the current topic assignment \n",
    "        DT[doc_idx,z_i[current]] -= 1\n",
    "        WT[w_idx,z_i[current]] -= 1\n",
    "        \n",
    "        # calculate new assignment \n",
    "        # according to the formula\n",
    "        prob_word =  (WT[w_idx,:] + beta) / (WT[:,:].sum(axis=0) + len(vocab)* beta) # referring to the equation (1) above\n",
    "        prob_document = (DT[doc_idx,:] + alpha) / (DT[doc_idx,:].sum(axis=0) + T*alpha) ## referring to the equation (2) above\n",
    "        prob = prob_word * prob_document # prob=[Topic1,Topic2]*[Topic1,Topic2]=[Topic1,Topic2]\n",
    "        \n",
    "        # choosing z_i according to the probabilities for each topic\n",
    "        z_i[current] = np.random.choice(np.arange(T), 1, p=prob/prob.sum())[0]  # np.arange(T) = index for topics\n",
    "                                                                                # prob/prob.sum() for nomalization to 1\n",
    "\n",
    "        # return the origin matrix before leaving out the current topic assignment \n",
    "        DT[doc_idx,z_i[current]] += 1\n",
    "        WT[w_idx,z_i[current]] += 1\n",
    "\n",
    "        # estimate phi - not essential for inference\n",
    "        phi  = WT/(WT.sum(axis=0)) # generated topic assignments\n",
    "        for t in range(T):\n",
    "            phi_T[t][:,step] = phi[:,t] # record the generated topic assignments to topic 1\n",
    "                                        # record the generated topic assignments to topic 2\n",
    "    if((step+1) % 10 ==0):\n",
    "        print('iteration: ', step+1)"
   ]
  },
  {
   "cell_type": "code",
   "execution_count": 65,
   "metadata": {
    "collapsed": false
   },
   "outputs": [
    {
     "data": {
      "text/plain": [
       "array([[  0.,  10.],\n",
       "       [  8.,   0.],\n",
       "       [ 14.,   0.],\n",
       "       [ 17.,   0.],\n",
       "       [  5.,   0.],\n",
       "       [  0.,  15.],\n",
       "       [  0.,  16.],\n",
       "       [  8.,   0.],\n",
       "       [  6.,   0.],\n",
       "       [  0.,  14.],\n",
       "       [  0.,   7.],\n",
       "       [ 11.,   1.],\n",
       "       [  0.,   8.],\n",
       "       [  0.,  14.],\n",
       "       [ 13.,   2.],\n",
       "       [ 14.,   0.]])"
      ]
     },
     "execution_count": 65,
     "metadata": {},
     "output_type": "execute_result"
    }
   ],
   "source": [
    "DT # topic assingments for document X topic"
   ]
  },
  {
   "cell_type": "code",
   "execution_count": 66,
   "metadata": {
    "collapsed": false
   },
   "outputs": [
    {
     "data": {
      "text/plain": [
       "array([[ 0.        ,  1.        ],\n",
       "       [ 1.        ,  0.        ],\n",
       "       [ 1.        ,  0.        ],\n",
       "       [ 1.        ,  0.        ],\n",
       "       [ 1.        ,  0.        ],\n",
       "       [ 0.        ,  1.        ],\n",
       "       [ 0.        ,  1.        ],\n",
       "       [ 1.        ,  0.        ],\n",
       "       [ 1.        ,  0.        ],\n",
       "       [ 0.        ,  1.        ],\n",
       "       [ 0.        ,  1.        ],\n",
       "       [ 0.91666667,  0.08333333],\n",
       "       [ 0.        ,  1.        ],\n",
       "       [ 0.        ,  1.        ],\n",
       "       [ 0.86666667,  0.13333333],\n",
       "       [ 1.        ,  0.        ]])"
      ]
     },
     "execution_count": 66,
     "metadata": {},
     "output_type": "execute_result"
    }
   ],
   "source": [
    "theta=DT/(DT.sum(axis=1)).reshape(DT.shape[0],1)# topic distribution over each document\n",
    "theta"
   ]
  },
  {
   "cell_type": "code",
   "execution_count": 67,
   "metadata": {
    "collapsed": false
   },
   "outputs": [
    {
     "data": {
      "text/plain": [
       "array([[ 35.,   0.],\n",
       "       [ 37.,   0.],\n",
       "       [ 24.,  27.],\n",
       "       [  0.,  26.],\n",
       "       [  0.,  34.]])"
      ]
     },
     "execution_count": 67,
     "metadata": {},
     "output_type": "execute_result"
    }
   ],
   "source": [
    "WT # topic assingments for word X topic"
   ]
  },
  {
   "cell_type": "code",
   "execution_count": 68,
   "metadata": {
    "collapsed": false
   },
   "outputs": [
    {
     "data": {
      "text/plain": [
       "array([[ 0.36458333,  0.        ],\n",
       "       [ 0.38541667,  0.        ],\n",
       "       [ 0.25      ,  0.31034483],\n",
       "       [ 0.        ,  0.29885057],\n",
       "       [ 0.        ,  0.3908046 ]])"
      ]
     },
     "execution_count": 68,
     "metadata": {},
     "output_type": "execute_result"
    }
   ],
   "source": [
    "phi=WT/WT.sum(axis=0) # word distribution over each topic\n",
    "phi"
   ]
  },
  {
   "cell_type": "code",
   "execution_count": 72,
   "metadata": {
    "collapsed": false
   },
   "outputs": [
    {
     "data": {
      "text/plain": [
       "array([ True,  True,  True,  True,  True,  True,  True,  True,  True,\n",
       "        True,  True,  True,  True,  True,  True,  True], dtype=bool)"
      ]
     },
     "execution_count": 72,
     "metadata": {},
     "output_type": "execute_result"
    }
   ],
   "source": [
    "np.argmax(theta, axis=1) == orig_topics # all topic assingments were well predictied"
   ]
  },
  {
   "cell_type": "code",
   "execution_count": 74,
   "metadata": {
    "collapsed": false
   },
   "outputs": [
    {
     "data": {
      "image/png": "[encoded data removed]",
      "text/plain": [
       "<matplotlib.figure.Figure at 0x193f67c7f98>"
      ]
     },
     "execution_count": 74,
     "metadata": {},
     "output_type": "execute_result"
    }
   ],
   "source": [
    "import matplotlib.pyplot as plt\n",
    "import seaborn as sns\n",
    "fig, axs = plt.subplots(T,1, sharey=False) # T row X 1 col\n",
    "\n",
    "\n",
    "for t in range(T):\n",
    "    for i in range(phi_T[t].shape[0]):\n",
    "            axs[t].plot(phi_T[t][i,0:100]) # each word distribution over topic at i iteration\n",
    "            axs[t].set_title('Topic '+ str(t+1))\n",
    "\n",
    "\n",
    "fig.set_size_inches((7, 4)) # width, length\n",
    "sns.despine()\n",
    "\n",
    "for ax in axs:\n",
    "    ax.set_ylabel(r'$\\phi_w$')\n",
    "    ax.set_xlabel('Iteration')\n",
    "    ax.set_yticks(np.arange(0, 0.5, 0.1))\n",
    "    \n",
    "fig.tight_layout()\n",
    "fig"
   ]
  },
  {
   "cell_type": "markdown",
   "metadata": {},
   "source": [
    "Each panel shows the fluctaion a probability of assigning each word to topic j. \n",
    "\n",
    "Maybe later I am going to apply this conception using Database.\n"
   ]
  }
 ],
 "metadata": {
  "anaconda-cloud": {},
  "kernelspec": {
   "display_name": "Python [conda root]",
   "language": "python",
   "name": "conda-root-py"
  },
  "language_info": {
   "codemirror_mode": {
    "name": "ipython",
    "version": 3
   },
   "file_extension": ".py",
   "mimetype": "text/x-python",
   "name": "python",
   "nbconvert_exporter": "python",
   "pygments_lexer": "ipython3",
   "version": "3.5.2"
  },
  "nbpresent": {
   "slides": {},
   "themes": {
    "default": "2e8f93d4-c00c-4619-9122-479dd9967107",
    "theme": {
     "2e8f93d4-c00c-4619-9122-479dd9967107": {
      "backgrounds": {
       "dc7afa04-bf90-40b1-82a5-726e3cff5267": {
        "background-color": "31af15d2-7e15-44c5-ab5e-e04b16a89eff",
        "id": "dc7afa04-bf90-40b1-82a5-726e3cff5267"
       }
      },
      "id": "2e8f93d4-c00c-4619-9122-479dd9967107",
      "palette": {
       "19cc588f-0593-49c9-9f4b-e4d7cc113b1c": {
        "id": "19cc588f-0593-49c9-9f4b-e4d7cc113b1c",
        "rgb": [
         252,
         252,
         252
        ]
       },
       "31af15d2-7e15-44c5-ab5e-e04b16a89eff": {
        "id": "31af15d2-7e15-44c5-ab5e-e04b16a89eff",
        "rgb": [
         68,
         68,
         68
        ]
       },
       "50f92c45-a630-455b-aec3-788680ec7410": {
        "id": "50f92c45-a630-455b-aec3-788680ec7410",
        "rgb": [
         197,
         226,
         245
        ]
       },
       "c5cc3653-2ee1-402a-aba2-7caae1da4f6c": {
        "id": "c5cc3653-2ee1-402a-aba2-7caae1da4f6c",
        "rgb": [
         43,
         126,
         184
        ]
       },
       "efa7f048-9acb-414c-8b04-a26811511a21": {
        "id": "efa7f048-9acb-414c-8b04-a26811511a21",
        "rgb": [
         25.118061674008803,
         73.60176211453744,
         107.4819383259912
        ]
       }
      },
      "rules": {
       "a": {
        "color": "19cc588f-0593-49c9-9f4b-e4d7cc113b1c"
       },
       "blockquote": {
        "color": "50f92c45-a630-455b-aec3-788680ec7410",
        "font-size": 3
       },
       "code": {
        "font-family": "Anonymous Pro"
       },
       "h1": {
        "color": "19cc588f-0593-49c9-9f4b-e4d7cc113b1c",
        "font-family": "Merriweather",
        "font-size": 8
       },
       "h2": {
        "color": "19cc588f-0593-49c9-9f4b-e4d7cc113b1c",
        "font-family": "Merriweather",
        "font-size": 6
       },
       "h3": {
        "color": "50f92c45-a630-455b-aec3-788680ec7410",
        "font-family": "Lato",
        "font-size": 5.5
       },
       "h4": {
        "color": "c5cc3653-2ee1-402a-aba2-7caae1da4f6c",
        "font-family": "Lato",
        "font-size": 5
       },
       "h5": {
        "font-family": "Lato"
       },
       "h6": {
        "font-family": "Lato"
       },
       "h7": {
        "font-family": "Lato"
       },
       "li": {
        "color": "50f92c45-a630-455b-aec3-788680ec7410",
        "font-size": 3.25
       },
       "pre": {
        "font-family": "Anonymous Pro",
        "font-size": 4
       }
      },
      "text-base": {
       "color": "19cc588f-0593-49c9-9f4b-e4d7cc113b1c",
       "font-family": "Lato",
       "font-size": 4
      }
     },
     "d4a00429-3f6d-4dd0-aa5b-f5be047fe1d1": {
      "backgrounds": {
       "dc7afa04-bf90-40b1-82a5-726e3cff5267": {
        "background-color": "31af15d2-7e15-44c5-ab5e-e04b16a89eff",
        "id": "dc7afa04-bf90-40b1-82a5-726e3cff5267"
       }
      },
      "id": "d4a00429-3f6d-4dd0-aa5b-f5be047fe1d1",
      "palette": {
       "19cc588f-0593-49c9-9f4b-e4d7cc113b1c": {
        "id": "19cc588f-0593-49c9-9f4b-e4d7cc113b1c",
        "rgb": [
         252,
         252,
         252
        ]
       },
       "31af15d2-7e15-44c5-ab5e-e04b16a89eff": {
        "id": "31af15d2-7e15-44c5-ab5e-e04b16a89eff",
        "rgb": [
         68,
         68,
         68
        ]
       },
       "50f92c45-a630-455b-aec3-788680ec7410": {
        "id": "50f92c45-a630-455b-aec3-788680ec7410",
        "rgb": [
         197,
         226,
         245
        ]
       },
       "c5cc3653-2ee1-402a-aba2-7caae1da4f6c": {
        "id": "c5cc3653-2ee1-402a-aba2-7caae1da4f6c",
        "rgb": [
         43,
         126,
         184
        ]
       },
       "efa7f048-9acb-414c-8b04-a26811511a21": {
        "id": "efa7f048-9acb-414c-8b04-a26811511a21",
        "rgb": [
         25.118061674008803,
         73.60176211453744,
         107.4819383259912
        ]
       }
      },
      "rules": {
       "a": {
        "color": "19cc588f-0593-49c9-9f4b-e4d7cc113b1c"
       },
       "blockquote": {
        "color": "50f92c45-a630-455b-aec3-788680ec7410",
        "font-size": 3
       },
       "code": {
        "font-family": "Anonymous Pro"
       },
       "h1": {
        "color": "19cc588f-0593-49c9-9f4b-e4d7cc113b1c",
        "font-family": "Merriweather",
        "font-size": 8
       },
       "h2": {
        "color": "19cc588f-0593-49c9-9f4b-e4d7cc113b1c",
        "font-family": "Merriweather",
        "font-size": 6
       },
       "h3": {
        "color": "50f92c45-a630-455b-aec3-788680ec7410",
        "font-family": "Lato",
        "font-size": 5.5
       },
       "h4": {
        "color": "c5cc3653-2ee1-402a-aba2-7caae1da4f6c",
        "font-family": "Lato",
        "font-size": 5
       },
       "h5": {
        "font-family": "Lato"
       },
       "h6": {
        "font-family": "Lato"
       },
       "h7": {
        "font-family": "Lato"
       },
       "li": {
        "color": "50f92c45-a630-455b-aec3-788680ec7410",
        "font-size": 3.25
       },
       "pre": {
        "font-family": "Anonymous Pro",
        "font-size": 4
       }
      },
      "text-base": {
       "color": "19cc588f-0593-49c9-9f4b-e4d7cc113b1c",
       "font-family": "Lato",
       "font-size": 4
      }
     },
     "dc9a2234-bbc7-42db-879b-4148a95288d4": {
      "id": "dc9a2234-bbc7-42db-879b-4148a95288d4",
      "palette": {
       "19cc588f-0593-49c9-9f4b-e4d7cc113b1c": {
        "id": "19cc588f-0593-49c9-9f4b-e4d7cc113b1c",
        "rgb": [
         252,
         252,
         252
        ]
       },
       "31af15d2-7e15-44c5-ab5e-e04b16a89eff": {
        "id": "31af15d2-7e15-44c5-ab5e-e04b16a89eff",
        "rgb": [
         68,
         68,
         68
        ]
       },
       "50f92c45-a630-455b-aec3-788680ec7410": {
        "id": "50f92c45-a630-455b-aec3-788680ec7410",
        "rgb": [
         155,
         177,
         192
        ]
       },
       "c5cc3653-2ee1-402a-aba2-7caae1da4f6c": {
        "id": "c5cc3653-2ee1-402a-aba2-7caae1da4f6c",
        "rgb": [
         43,
         126,
         184
        ]
       },
       "efa7f048-9acb-414c-8b04-a26811511a21": {
        "id": "efa7f048-9acb-414c-8b04-a26811511a21",
        "rgb": [
         25.118061674008803,
         73.60176211453744,
         107.4819383259912
        ]
       }
      },
      "rules": {
       "blockquote": {
        "color": "50f92c45-a630-455b-aec3-788680ec7410"
       },
       "code": {
        "font-family": "Anonymous Pro"
       },
       "h1": {
        "color": "c5cc3653-2ee1-402a-aba2-7caae1da4f6c",
        "font-family": "Lato",
        "font-size": 8
       },
       "h2": {
        "color": "c5cc3653-2ee1-402a-aba2-7caae1da4f6c",
        "font-family": "Lato",
        "font-size": 6
       },
       "h3": {
        "color": "50f92c45-a630-455b-aec3-788680ec7410",
        "font-family": "Lato",
        "font-size": 5.5
       },
       "h4": {
        "color": "c5cc3653-2ee1-402a-aba2-7caae1da4f6c",
        "font-family": "Lato",
        "font-size": 5
       },
       "h5": {
        "font-family": "Lato"
       },
       "h6": {
        "font-family": "Lato"
       },
       "h7": {
        "font-family": "Lato"
       },
       "pre": {
        "font-family": "Anonymous Pro",
        "font-size": 4
       }
      },
      "text-base": {
       "font-family": "Merriweather",
       "font-size": 4
      }
     }
    }
   }
  }
 },
 "nbformat": 4,
 "nbformat_minor": 0
}
